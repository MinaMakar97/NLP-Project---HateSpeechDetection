{
  "nbformat": 4,
  "nbformat_minor": 0,
  "metadata": {
    "colab": {
      "provenance": [],
      "gpuType": "T4"
    },
    "kernelspec": {
      "name": "python3",
      "display_name": "Python 3"
    },
    "language_info": {
      "name": "python"
    },
    "accelerator": "GPU"
  },
  "cells": [
    {
      "cell_type": "markdown",
      "source": [
        "# A BERT-Based Transfer Learning Approach for Hate Speech Detection in Online Social Media [link](https://arxiv.org/pdf/1910.12574.pdf)"
      ],
      "metadata": {
        "id": "5vmMmN_VhjFe"
      }
    },
    {
      "cell_type": "markdown",
      "source": [
        "dataset used \\\\\n",
        "https://github.com/zeeraktalat/hatespeech \\\\\n",
        "https://huggingface.co/datasets/hate_speech_offensive"
      ],
      "metadata": {
        "id": "AQRTclA2Tp0b"
      }
    },
    {
      "cell_type": "markdown",
      "source": [
        "library need to be installed"
      ],
      "metadata": {
        "id": "iB0xZ3Aqe8Bx"
      }
    },
    {
      "cell_type": "code",
      "source": [
        "!pip install transformers emoji torchmetrics  --quiet"
      ],
      "metadata": {
        "id": "epo8wnFxxOkx",
        "colab": {
          "base_uri": "https://localhost:8080/"
        },
        "outputId": "4e29a0aa-585b-404b-e345-5551bc586d97"
      },
      "execution_count": 1,
      "outputs": [
        {
          "output_type": "stream",
          "name": "stdout",
          "text": [
            "\u001b[2K     \u001b[90m━━━━━━━━━━━━━━━━━━━━━━━━━━━━━━━━━━━━━━━━\u001b[0m \u001b[32m7.6/7.6 MB\u001b[0m \u001b[31m24.3 MB/s\u001b[0m eta \u001b[36m0:00:00\u001b[0m\n",
            "\u001b[2K     \u001b[90m━━━━━━━━━━━━━━━━━━━━━━━━━━━━━━━━━━━━━━\u001b[0m \u001b[32m358.9/358.9 kB\u001b[0m \u001b[31m25.8 MB/s\u001b[0m eta \u001b[36m0:00:00\u001b[0m\n",
            "\u001b[2K     \u001b[90m━━━━━━━━━━━━━━━━━━━━━━━━━━━━━━━━━━━━━━\u001b[0m \u001b[32m764.8/764.8 kB\u001b[0m \u001b[31m36.6 MB/s\u001b[0m eta \u001b[36m0:00:00\u001b[0m\n",
            "\u001b[2K     \u001b[90m━━━━━━━━━━━━━━━━━━━━━━━━━━━━━━━━━━━━━━\u001b[0m \u001b[32m294.8/294.8 kB\u001b[0m \u001b[31m22.4 MB/s\u001b[0m eta \u001b[36m0:00:00\u001b[0m\n",
            "\u001b[2K     \u001b[90m━━━━━━━━━━━━━━━━━━━━━━━━━━━━━━━━━━━━━━━━\u001b[0m \u001b[32m7.8/7.8 MB\u001b[0m \u001b[31m45.9 MB/s\u001b[0m eta \u001b[36m0:00:00\u001b[0m\n",
            "\u001b[2K     \u001b[90m━━━━━━━━━━━━━━━━━━━━━━━━━━━━━━━━━━━━━━━━\u001b[0m \u001b[32m1.3/1.3 MB\u001b[0m \u001b[31m34.2 MB/s\u001b[0m eta \u001b[36m0:00:00\u001b[0m\n",
            "\u001b[?25h"
          ]
        }
      ]
    },
    {
      "cell_type": "markdown",
      "source": [
        "# import"
      ],
      "metadata": {
        "id": "jy1U-W8RfEzt"
      }
    },
    {
      "cell_type": "code",
      "source": [
        "from google.colab import drive\n",
        "drive.mount('/content/drive')"
      ],
      "metadata": {
        "colab": {
          "base_uri": "https://localhost:8080/"
        },
        "id": "iPLjCzXYrCk9",
        "outputId": "252d36fb-33e7-4303-e8aa-46c821aab137"
      },
      "execution_count": 2,
      "outputs": [
        {
          "output_type": "stream",
          "name": "stdout",
          "text": [
            "Mounted at /content/drive\n"
          ]
        }
      ]
    },
    {
      "cell_type": "code",
      "execution_count": 3,
      "metadata": {
        "id": "eLvEE6OPcTMr"
      },
      "outputs": [],
      "source": [
        "import gc\n",
        "import emoji as emoji\n",
        "import re\n",
        "import string\n",
        "import numpy as np\n",
        "import pandas as pd\n",
        "import torch\n",
        "import torch.nn as nn\n",
        "from sklearn.model_selection import train_test_split\n",
        "from sklearn.metrics import classification_report, accuracy_score\n",
        "from transformers import BertModel, BertTokenizer, AdamW, AutoModel, AutoModelForMaskedLM, AutoTokenizer, DistilBertTokenizer, DistilBertModel, BartTokenizer, BartModel\n",
        "from torch.utils.data import TensorDataset, DataLoader, RandomSampler, SequentialSampler\n",
        "from torchmetrics import *\n",
        "import torch.optim.lr_scheduler as lr_scheduler\n",
        "from torch.optim import AdamW"
      ]
    },
    {
      "cell_type": "markdown",
      "source": [
        "# Model"
      ],
      "metadata": {
        "id": "1Dy1M8Y-On0S"
      }
    },
    {
      "cell_type": "code",
      "source": [
        "device = 'cuda' if torch.cuda.is_available() else 'cpu'\n",
        "class BERT_Arch(nn.Module):\n",
        "    def __init__(self, modelName, num_class):\n",
        "        super(BERT_Arch, self).__init__()\n",
        "        self.model = AutoModel.from_pretrained(\"bert-base-uncased\")\n",
        "        for param in self.model.parameters():\n",
        "            param.requires_grad = False\n",
        "        self.conv = nn.Conv2d(in_channels=13, out_channels=32, kernel_size=(3, 768), padding=(1, 0))\n",
        "        self.relu = nn.ReLU()\n",
        "        self.pool = nn.MaxPool2d(kernel_size=(3, 1), stride=(1, 1))\n",
        "        self.dropout = nn.Dropout(0.1)\n",
        "        self.batch_norm = nn.BatchNorm2d(32)\n",
        "        self.dropout2 = nn.Dropout(0.1)\n",
        "        self.fc = nn.Linear(1984, num_class)\n",
        "        self.softmax = nn.LogSoftmax(dim=1)\n",
        "\n",
        "    def forward(self, sent_id, mask):\n",
        "        all_layers = self.model(sent_id, attention_mask=mask, output_hidden_states=True)\n",
        "        x = torch.transpose(torch.cat(tuple([t.unsqueeze(0) for t in all_layers[2]]), 0), 0, 1)\n",
        "        x = self.dropout(x)\n",
        "        x = self.conv(x)\n",
        "        x = self.relu(x)\n",
        "        x = self.dropout2(x)\n",
        "        x = self.pool(x)\n",
        "        x = self.dropout(x)\n",
        "        x = x.view(x.size(0), -1)\n",
        "        x = self.fc(self.dropout(x))\n",
        "        return self.softmax(x)"
      ],
      "metadata": {
        "id": "6CaJtyvflmL_"
      },
      "execution_count": 4,
      "outputs": []
    },
    {
      "cell_type": "markdown",
      "source": [
        "# Preprocessing"
      ],
      "metadata": {
        "id": "w-RbK5WuO-uW"
      }
    },
    {
      "cell_type": "code",
      "source": [
        "def load_and_process(dataset, column_to_drop, modelName, text, label):\n",
        "    data, labels = read_dataset(dataset, column_to_drop, text, label)\n",
        "    num_of_labels = len(labels.unique())\n",
        "    input_ids, attention_masks, labels = data_process(pre_process_dataset(data), labels, modelName)\n",
        "    return input_ids, attention_masks, labels,  data, labels\n",
        "\n",
        "\n",
        "def read_dataset(file, column_to_drop, text, label):\n",
        "    data = pd.read_csv(file)\n",
        "    data = data.drop(column_to_drop, axis=1)\n",
        "    return data[text].tolist(), data[label]\n",
        "\n",
        "\n",
        "def pre_process_dataset(values):\n",
        "    new_values = list()\n",
        "    # Emoticons\n",
        "    emoticons = [':-)', ':)', '(:', '(-:', ':))', '((:', ':-D', ':D', 'X-D', 'XD', 'xD', 'xD', '<3', '</3', ':\\*',\n",
        "                 ';-)',\n",
        "                 ';)', ';-D', ';D', '(;', '(-;', ':-(', ':(', '(:', '(-:', ':,(', ':\\'(', ':\"(', ':((', ':D', '=D',\n",
        "                 '=)',\n",
        "                 '(=', '=(', ')=', '=-O', 'O-=', ':o', 'o:', 'O:', 'O:', ':-o', 'o-:', ':P', ':p', ':S', ':s', ':@',\n",
        "                 ':>',\n",
        "                 ':<', '^_^', '^.^', '>.>', 'T_T', 'T-T', '-.-', '*.*', '~.~', ':*', ':-*', 'xP', 'XP', 'XP', 'Xp',\n",
        "                 ':-|',\n",
        "                 ':->', ':-<', '$_$', '8-)', ':-P', ':-p', '=P', '=p', ':*)', '*-*', 'B-)', 'O.o', 'X-(', ')-X']\n",
        "    # for each sentence\n",
        "    for value in values:\n",
        "        # Remove dots\n",
        "        text = value.replace(\".\", \"\").lower()\n",
        "        text = re.sub(r\"[^a-zA-Z?.!,¿]+\", \" \", text)\n",
        "        users = re.findall(\"[@]\\w+\", text)\n",
        "        for user in users:\n",
        "            text = text.replace(user, \"<user>\")\n",
        "        urls = re.findall(r'(https?://[^\\s]+)', text)\n",
        "        if len(urls) != 0:\n",
        "            for url in urls:\n",
        "                text = text.replace(url, \"<url >\")\n",
        "        for emo in text:\n",
        "            if emo in emoji.EMOJI_DATA.keys():\n",
        "                text = text.replace(emo, \"<emoticon >\")\n",
        "        for emo in emoticons:\n",
        "            text = text.replace(emo, \"<emoticon >\")\n",
        "        numbers = re.findall('[0-9]+', text)\n",
        "        for number in numbers:\n",
        "            text = text.replace(number, \"<number >\")\n",
        "        text = text.replace('#', \"<hashtag >\")\n",
        "        text = re.sub(r\"([?.!,¿])\", r\" \", text)\n",
        "        text = \"\".join(l for l in text if l not in string.punctuation)\n",
        "        text = re.sub(r'[\" \"]+', \" \", text).strip()\n",
        "        new_values.append(text)\n",
        "    return new_values\n",
        "\n",
        "\n",
        "\n",
        "\n",
        "def data_process(data, labels, modelName):\n",
        "    input_ids = []\n",
        "    attention_masks = []\n",
        "    tokenizer = AutoTokenizer.from_pretrained(\"bert-base-uncased\")\n",
        "    for sentence in data:\n",
        "        bert_inp = tokenizer.__call__(sentence, max_length=64,\n",
        "                                          padding='max_length', pad_to_max_length=True,\n",
        "                                          truncation=True, return_token_type_ids=False)\n",
        "\n",
        "        input_ids.append(bert_inp['input_ids'])\n",
        "        attention_masks.append(bert_inp['attention_mask'])\n",
        "    del tokenizer\n",
        "    gc.collect()\n",
        "    torch.cuda.empty_cache()\n",
        "    input_ids = np.asarray(input_ids)\n",
        "    attention_masks = np.array(attention_masks)\n",
        "    labels = np.array(labels)\n",
        "    return input_ids, attention_masks, labels"
      ],
      "metadata": {
        "id": "F3YbCLsaPArj"
      },
      "execution_count": 5,
      "outputs": []
    },
    {
      "cell_type": "markdown",
      "source": [
        "# utils"
      ],
      "metadata": {
        "id": "4jL6gD_gf0IT"
      }
    },
    {
      "cell_type": "code",
      "source": [
        "def progress_bar(i, total, accuracy, loss, batch_size):\n",
        "    step = i+1\n",
        "    percent = \"{0:.2f}\".format(100 * (step / float(total)))\n",
        "    lossp = \"{0:.4f}\".format(loss)\n",
        "    accuracy = \"{0:.4f}\".format(accuracy)\n",
        "    filledLength = int(100 * step // total)\n",
        "    bar = '█' * filledLength + '>'  *(filledLength < 100) + '.' * (99 - filledLength)\n",
        "    print(f'\\rBatch {step}/{total} |{bar}| {percent}% complete, loss={lossp}, accuracy={accuracy}', end='')\n",
        "\n",
        "def init_batch(batch):\n",
        "    # push the batch to gpu\n",
        "    batch = [r.to(device) for r in batch]\n",
        "    sent_id, mask, labels = batch\n",
        "    del batch\n",
        "    gc.collect()\n",
        "    torch.cuda.empty_cache()\n",
        "    return sent_id, mask, labels\n",
        "\n",
        "def to_tensor(dict_text, label):\n",
        "    seq = torch.tensor(np.stack(dict_text['input_ids'].values))\n",
        "    mask = torch.tensor(np.stack(dict_text['attention_masks'].values))\n",
        "    y = torch.tensor(label)\n",
        "    return seq, mask, y"
      ],
      "metadata": {
        "id": "Ru1sH36EFOfp"
      },
      "execution_count": 6,
      "outputs": []
    },
    {
      "cell_type": "code",
      "source": [
        "def predict(model, sent_id, mask, labels, cross_entropy):\n",
        "    preds = model(sent_id, mask)\n",
        "    loss = cross_entropy(preds, labels)\n",
        "    return preds, loss\n",
        "\n",
        "def output_model(total_loss, train_dataloader, batch_size, total_preds):\n",
        "    avg_loss = total_loss / (len(train_dataloader)*batch_size)\n",
        "    total_preds = np.stack(total_preds[0].detach().cpu().numpy(), axis=0)\n",
        "    return avg_loss, total_preds"
      ],
      "metadata": {
        "id": "ZpqCcGuZITpT"
      },
      "execution_count": 7,
      "outputs": []
    },
    {
      "cell_type": "code",
      "source": [
        "def train(model, train_dataloader, optimizer, cross_entropy, scheduler, batch_size):\n",
        "    print(\"\\n\\n Training...\")\n",
        "    model.train()\n",
        "    total_loss, total_accuracy = 0, 0\n",
        "    # iterate over batches\n",
        "    total = len(train_dataloader)\n",
        "    for i, batch in enumerate(train_dataloader):\n",
        "        progress_bar(i, total, total_accuracy / (i + 1), total_loss / (i + 1), batch_size)\n",
        "        sent_id, mask, labels = init_batch(batch)\n",
        "        # clear previously calculated gradients\n",
        "        model.zero_grad()\n",
        "        # compute the loss between actual and predicted value\n",
        "        preds, loss = predict(model, sent_id, mask, labels, cross_entropy)\n",
        "        # backward pass to calculate the gradients\n",
        "        loss.backward()\n",
        "        # clip the the gradients to 1.0. It helps in preventing the exploding gradient problem\n",
        "        torch.nn.utils.clip_grad_norm_(model.parameters(), 1.0)\n",
        "        # update parameters\n",
        "        optimizer.step()\n",
        "        before_lr = optimizer.param_groups[0][\"lr\"]\n",
        "        # append the model predictions\n",
        "        scheduler.step()\n",
        "        if i % 30 == 0:\n",
        "            after_lr = optimizer.param_groups[0][\"lr\"]\n",
        "            print(\"\\nEpoch %d: SGD lr %.4f -> %.4f\" % (i, before_lr, after_lr))\n",
        "        total_loss += loss.mean().item()\n",
        "        total_accuracy += acc(preds.argmax(axis=1), labels).mean().item()\n",
        "\n",
        "    return total_loss / total, total_accuracy / total\n",
        "\n",
        "# function for evaluating the model\n",
        "def evaluate(val_dataloader, cross_entropy, batch_size):\n",
        "    print(\"\\n\\nEvaluating...\")\n",
        "    # deactivate dropout layers\n",
        "    model.eval()\n",
        "    total_loss, total_accuracy, total_preds = 0, 0, []\n",
        "    # iterate over batches\n",
        "    total = len(val_dataloader)\n",
        "    for i, batch in enumerate(val_dataloader):\n",
        "        progress_bar(i, total, total_accuracy / (i + 1), total_loss / (i + 1), batch_size)\n",
        "        sent_id, mask, labels = init_batch(batch)\n",
        "        # deactivate autograd\n",
        "        with torch.no_grad():\n",
        "            preds, loss = predict(model, sent_id, mask, labels, cross_entropy)\n",
        "            total_loss += loss.mean().item()\n",
        "            total_accuracy += acc(preds.argmax(axis=1), labels).mean().item()\n",
        "    return total_loss / total, total_accuracy / total\n",
        "\n",
        "def predict_and_print_performance(model, batch_size, accuracy_function):\n",
        "    j = 0\n",
        "    preds_ = []\n",
        "    total_loss, total_accuracy, total_preds = 0, 0, []\n",
        "    test_y = []\n",
        "    total = len(test_dataloader)\n",
        "    for i, batch in enumerate(test_dataloader):\n",
        "        test_y.extend(list(batch[2].numpy()))\n",
        "        progress_bar(i, total, total_accuracy / (i + 1), total_loss / (i + 1), batch_size)\n",
        "        sent_id, mask, labels = init_batch(batch)\n",
        "        # deactivate autograd\n",
        "        with torch.no_grad():\n",
        "            preds, loss = predict(model, sent_id, mask, labels, cross_entropy)\n",
        "            total_loss += loss.mean().item()\n",
        "            total_accuracy += acc(preds.argmax(axis=1), labels).mean().item()\n",
        "            preds_.extend(list(preds.argmax(axis=1).detach().cpu().numpy()))\n",
        "\n",
        "\n",
        "    print(\"\\nPerformance:\")\n",
        "    print('Classification Report')\n",
        "    print(classification_report(test_y, preds_))\n",
        "    print(\"Accuracy: \" + str(accuracy_score(test_y, preds_)))"
      ],
      "metadata": {
        "id": "JGa6fRNWPa3M"
      },
      "execution_count": 12,
      "outputs": []
    },
    {
      "cell_type": "code",
      "source": [
        "def to_dataset(X, y, batch_size):\n",
        "    data, mask, y = to_tensor(X, y)\n",
        "    # wrap tensors\n",
        "    data = TensorDataset(data, mask, y)\n",
        "    # sampler for sampling the data during training\n",
        "    train_sampler = RandomSampler(data)\n",
        "    # dataLoader for train set\n",
        "    dataloader = DataLoader(data, sampler=train_sampler, batch_size=batch_size)\n",
        "    return dataloader"
      ],
      "metadata": {
        "id": "u0pMEvM2tYfo"
      },
      "execution_count": 9,
      "outputs": []
    },
    {
      "cell_type": "code",
      "source": [
        "def split_in_train_val_test(df, labels, batch_size):\n",
        "    train_text, temp_text, train_labels, temp_labels = train_test_split(df, labels,\n",
        "                             random_state=1234, test_size=0.2, stratify=labels)\n",
        "\n",
        "    val_text, test_text, val_labels, test_labels = train_test_split(temp_text, temp_labels,\n",
        "                         random_state=1234, test_size=0.5, stratify=temp_labels)\n",
        "\n",
        "    del temp_text\n",
        "    gc.collect()\n",
        "    torch.cuda.empty_cache()\n",
        "    train_dataloader = to_dataset(train_text, train_labels, batch_size)\n",
        "    val_dataloader = to_dataset(val_text, val_labels, batch_size)\n",
        "    test_dataloader = to_dataset(test_text, test_labels, batch_size)\n",
        "    return train_dataloader, val_dataloader, test_dataloader"
      ],
      "metadata": {
        "id": "uSgVUatss2el"
      },
      "execution_count": 10,
      "outputs": []
    },
    {
      "cell_type": "code",
      "source": [
        "def init_file(num_classes, type_task, path_file, column_to_drop, text_column_name, column_label_name, batch_size):\n",
        "    acc = Accuracy('multiclass', num_classes=num_classes).to(device)\n",
        "    input_ids, attention_masks, labels, data, labels = load_and_process(path_file, column_to_drop, \"bert-base-uncased\", text_column_name, column_label_name)\n",
        "    df = pd.DataFrame(list(zip(input_ids, attention_masks)), columns=['input_ids', 'attention_masks'])\n",
        "    train_dataloader, val_dataloader, test_dataloader = split_in_train_val_test(df, labels, batch_size)\n",
        "    gc.collect()\n",
        "    torch.cuda.empty_cache()\n",
        "    # pass the pre-trained BERT to our define architecture\n",
        "    model = BERT_Arch(\"bert-base-uncased\", num_classes)\n",
        "    # push the model to GPU\n",
        "    model = model.to(device)\n",
        "    return train_dataloader, val_dataloader, test_dataloader, acc, model"
      ],
      "metadata": {
        "id": "kA1EaSdQYiKP"
      },
      "execution_count": 23,
      "outputs": []
    },
    {
      "cell_type": "code",
      "source": [
        "def train_and_validate(train_dataloader, val_dataloader,  model, learning_rate, epochs, cross_entropy, batch_size ):\n",
        "    optimizer = AdamW(model.parameters(), lr= learning_rate)\n",
        "    scheduler = lr_scheduler.LinearLR(optimizer, start_factor=1.0, end_factor=0.5, total_iters=len(train_dataloader) * epochs)\n",
        "    current = 1\n",
        "    #cross_entropy = nn.NLLLoss()\n",
        "\n",
        "    best_valid_loss = float('inf')\n",
        "    while current <= epochs:\n",
        "        print(f'\\nEpoch {current} / {epochs}:')\n",
        "\n",
        "        # train model\n",
        "        train_loss, _ = train(model, train_dataloader, optimizer, cross_entropy, scheduler, batch_size)\n",
        "\n",
        "        # evaluate model\n",
        "        valid_loss, _ = evaluate(val_dataloader, cross_entropy, batch_size)\n",
        "\n",
        "        # save the best model\n",
        "        if valid_loss < best_valid_loss:\n",
        "            best_valid_loss = valid_loss\n",
        "\n",
        "        print(f'\\n\\nTraining Loss: {train_loss:.3f}')\n",
        "        print(f'Validation Loss: {valid_loss:.3f}')\n",
        "\n",
        "        current = current + 1\n",
        "    #return model"
      ],
      "metadata": {
        "id": "cyapN4ocwA0y"
      },
      "execution_count": 13,
      "outputs": []
    },
    {
      "cell_type": "markdown",
      "source": [
        "# Datasets"
      ],
      "metadata": {
        "id": "9d8Myi0jxAIx"
      }
    },
    {
      "cell_type": "markdown",
      "source": [
        "## Automated Hate Speech Detection Dataset"
      ],
      "metadata": {
        "id": "8txRFURdUOqi"
      }
    },
    {
      "cell_type": "code",
      "source": [
        "file_path = \"/content/drive/MyDrive/Data science/NLP/dataset/hate_speech_offensiveWithHatespeech/labeled_data.csv\"\n",
        "column_to_drop = ['count', 'hate_speech', 'offensive_language', 'neither']\n",
        "train_dataloader, val_dataloader, test_dataloader, acc, model = init_file(num_classes=3, type_task='multiclass', path_file= file_path, column_to_drop=column_to_drop, \\\n",
        "          text_column_name='tweet', column_label_name=\"class\", batch_size=32)"
      ],
      "metadata": {
        "id": "lWUOjtYfY_wk"
      },
      "execution_count": null,
      "outputs": []
    },
    {
      "cell_type": "markdown",
      "source": [
        "### Train"
      ],
      "metadata": {
        "id": "OwkRbLXowheG"
      }
    },
    {
      "cell_type": "code",
      "source": [
        "weights = torch.tensor([2., 1., 1.])\n",
        "weight=weights.to(device)\n",
        "cross_entropy = nn.CrossEntropyLoss(weight=weight)\n",
        "train_and_validate(train_dataloader, val_dataloader,  model, learning_rate = 2e-5 , epochs = 1, cross_entropy= cross_entropy, batch_size=32)"
      ],
      "metadata": {
        "colab": {
          "base_uri": "https://localhost:8080/"
        },
        "id": "0fFsVBjAjazf",
        "outputId": "35260902-c711-4a6d-d7c1-f5d1dbd1beb1"
      },
      "execution_count": null,
      "outputs": [
        {
          "output_type": "stream",
          "name": "stdout",
          "text": [
            "\n",
            "Epoch 1 / 1:\n",
            "\n",
            "\n",
            " Training...\n",
            "Batch 1/620 |>...................................................................................................| 0.16% complete, loss=0.0000, accuracy=0.0000\n",
            "Epoch 0: SGD lr 0.0000 -> 0.0000\n",
            "Batch 31/620 |█████>..............................................................................................| 5.00% complete, loss=0.2613, accuracy=0.9032\n",
            "Epoch 30: SGD lr 0.0000 -> 0.0000\n",
            "Batch 61/620 |█████████>..........................................................................................| 9.84% complete, loss=0.2574, accuracy=0.9185\n",
            "Epoch 60: SGD lr 0.0000 -> 0.0000\n",
            "Batch 91/620 |██████████████>.....................................................................................| 14.68% complete, loss=0.2537, accuracy=0.9217\n",
            "Epoch 90: SGD lr 0.0000 -> 0.0000\n",
            "Batch 121/620 |███████████████████>................................................................................| 19.52% complete, loss=0.2486, accuracy=0.9261\n",
            "Epoch 120: SGD lr 0.0000 -> 0.0000\n",
            "Batch 151/620 |████████████████████████>...........................................................................| 24.35% complete, loss=0.2494, accuracy=0.9276\n",
            "Epoch 150: SGD lr 0.0000 -> 0.0000\n",
            "Batch 181/620 |█████████████████████████████>......................................................................| 29.19% complete, loss=0.2480, accuracy=0.9302\n",
            "Epoch 180: SGD lr 0.0000 -> 0.0000\n",
            "Batch 211/620 |██████████████████████████████████>.................................................................| 34.03% complete, loss=0.2500, accuracy=0.9291\n",
            "Epoch 210: SGD lr 0.0000 -> 0.0000\n",
            "Batch 241/620 |██████████████████████████████████████>.............................................................| 38.87% complete, loss=0.2426, accuracy=0.9313\n",
            "Epoch 240: SGD lr 0.0000 -> 0.0000\n",
            "Batch 271/620 |███████████████████████████████████████████>........................................................| 43.71% complete, loss=0.2453, accuracy=0.9317\n",
            "Epoch 270: SGD lr 0.0000 -> 0.0000\n",
            "Batch 301/620 |████████████████████████████████████████████████>...................................................| 48.55% complete, loss=0.2436, accuracy=0.9326\n",
            "Epoch 300: SGD lr 0.0000 -> 0.0000\n",
            "Batch 331/620 |█████████████████████████████████████████████████████>..............................................| 53.39% complete, loss=0.2427, accuracy=0.9336\n",
            "Epoch 330: SGD lr 0.0000 -> 0.0000\n",
            "Batch 361/620 |██████████████████████████████████████████████████████████>.........................................| 58.23% complete, loss=0.2421, accuracy=0.9340\n",
            "Epoch 360: SGD lr 0.0000 -> 0.0000\n",
            "Batch 391/620 |███████████████████████████████████████████████████████████████>....................................| 63.06% complete, loss=0.2428, accuracy=0.9341\n",
            "Epoch 390: SGD lr 0.0000 -> 0.0000\n",
            "Batch 421/620 |███████████████████████████████████████████████████████████████████>................................| 67.90% complete, loss=0.2439, accuracy=0.9335\n",
            "Epoch 420: SGD lr 0.0000 -> 0.0000\n",
            "Batch 451/620 |████████████████████████████████████████████████████████████████████████>...........................| 72.74% complete, loss=0.2445, accuracy=0.9331\n",
            "Epoch 450: SGD lr 0.0000 -> 0.0000\n",
            "Batch 481/620 |█████████████████████████████████████████████████████████████████████████████>......................| 77.58% complete, loss=0.2463, accuracy=0.9328\n",
            "Epoch 480: SGD lr 0.0000 -> 0.0000\n",
            "Batch 511/620 |██████████████████████████████████████████████████████████████████████████████████>.................| 82.42% complete, loss=0.2467, accuracy=0.9333\n",
            "Epoch 510: SGD lr 0.0000 -> 0.0000\n",
            "Batch 541/620 |███████████████████████████████████████████████████████████████████████████████████████>............| 87.26% complete, loss=0.2466, accuracy=0.9331\n",
            "Epoch 540: SGD lr 0.0000 -> 0.0000\n",
            "Batch 571/620 |████████████████████████████████████████████████████████████████████████████████████████████>.......| 92.10% complete, loss=0.2469, accuracy=0.9326\n",
            "Epoch 570: SGD lr 0.0000 -> 0.0000\n",
            "Batch 601/620 |████████████████████████████████████████████████████████████████████████████████████████████████>...| 96.94% complete, loss=0.2482, accuracy=0.9320\n",
            "Epoch 600: SGD lr 0.0000 -> 0.0000\n",
            "Batch 620/620 |████████████████████████████████████████████████████████████████████████████████████████████████████| 100.00% complete, loss=0.2481, accuracy=0.9319\n",
            "\n",
            "Evaluating...\n",
            "Batch 78/78 |████████████████████████████████████████████████████████████████████████████████████████████████████| 100.00% complete, loss=0.3282, accuracy=0.8938\n",
            "\n",
            "Training Loss: 0.248\n",
            "Validation Loss: 0.334\n"
          ]
        }
      ]
    },
    {
      "cell_type": "markdown",
      "source": [
        "### Test"
      ],
      "metadata": {
        "id": "5gWdS5u0OpZi"
      }
    },
    {
      "cell_type": "code",
      "source": [
        "predict_and_print_performance(model, batch_size=32, accuracy_function=acc)"
      ],
      "metadata": {
        "colab": {
          "base_uri": "https://localhost:8080/"
        },
        "id": "AUw1v1q5fxpS",
        "outputId": "280b577b-9f1e-44e5-9756-51fd945b0d54"
      },
      "execution_count": null,
      "outputs": [
        {
          "output_type": "stream",
          "name": "stdout",
          "text": [
            "Batch 78/78 |████████████████████████████████████████████████████████████████████████████████████████████████████| 100.00% complete, loss=0.3383, accuracy=0.8946\n",
            "Performance:\n",
            "Classification Report\n",
            "              precision    recall  f1-score   support\n",
            "\n",
            "           0       0.56      0.35      0.43       143\n",
            "           1       0.93      0.95      0.94      1919\n",
            "           2       0.85      0.88      0.87       417\n",
            "\n",
            "    accuracy                           0.91      2479\n",
            "   macro avg       0.78      0.73      0.75      2479\n",
            "weighted avg       0.90      0.91      0.90      2479\n",
            "\n",
            "Accuracy: 0.9068172650262203\n"
          ]
        }
      ]
    },
    {
      "cell_type": "code",
      "source": [
        "torch.save(model.state_dict(), \"/content/drive/MyDrive/Data science/NLP/mina/model_saved_2\")"
      ],
      "metadata": {
        "id": "4dtoVelM4OAs"
      },
      "execution_count": null,
      "outputs": []
    },
    {
      "cell_type": "code",
      "source": [
        "model.load_state_dict(torch.load(\"/content/drive/MyDrive/Data science/NLP/mina/model_saved_2\"))"
      ],
      "metadata": {
        "colab": {
          "base_uri": "https://localhost:8080/"
        },
        "id": "Znr-tQCFfO0t",
        "outputId": "2e20c54a-0786-40b2-d21b-3edea1991a84"
      },
      "execution_count": null,
      "outputs": [
        {
          "output_type": "execute_result",
          "data": {
            "text/plain": [
              "<All keys matched successfully>"
            ]
          },
          "metadata": {},
          "execution_count": 46
        }
      ]
    },
    {
      "cell_type": "markdown",
      "source": [
        "Risultati replicati (Quasi)"
      ],
      "metadata": {
        "id": "TeIslZ_nOIOf"
      }
    },
    {
      "cell_type": "markdown",
      "source": [
        "![image.png](data:image/png;base64,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)"
      ],
      "metadata": {
        "id": "RGbOsAprOIQU"
      }
    },
    {
      "cell_type": "markdown",
      "source": [
        "## Wiki Toxic Dataset"
      ],
      "metadata": {
        "id": "3EBXkj-1sb0n"
      }
    },
    {
      "cell_type": "code",
      "source": [
        "# I adapt the dataset according to my criteria, like the name of the columns\n",
        "df2 = pd.read_csv(\"/content/drive/MyDrive/Data science/NLP/Alex/wiki_toxic.csv\")\n",
        "df2 = df2.rename(columns={'comment_text': 'tweet', 'label': 'class'})\n",
        "df2 = df2[~df2.tweet.isna()]\n",
        "df2.to_csv(\"/content/drive/MyDrive/Data science/NLP/Alex/wiki_toxic.csv\", encoding='utf-8', index=False)"
      ],
      "metadata": {
        "id": "Dz0QYrGz57y6"
      },
      "execution_count": null,
      "outputs": []
    },
    {
      "cell_type": "code",
      "source": [
        "file_path = \"/content/drive/MyDrive/Data science/NLP/Alex/wiki_toxic.csv\"\n",
        "column_to_drop = ['Unnamed: 0', 'id']\n",
        "train_dataloader, val_dataloader, test_dataloader, acc, model = init_file(num_classes=2, type_task='multiclass', path_file= file_path, column_to_drop=column_to_drop, \\\n",
        "          text_column_name='tweet', column_label_name=\"class\", batch_size=128)"
      ],
      "metadata": {
        "id": "zG2-kxeEgT0p"
      },
      "execution_count": 24,
      "outputs": []
    },
    {
      "cell_type": "markdown",
      "source": [
        "### Train"
      ],
      "metadata": {
        "id": "49cQrFYS0DQG"
      }
    },
    {
      "cell_type": "code",
      "source": [
        "cross_entropy = nn.CrossEntropyLoss()\n",
        "train_and_validate(train_dataloader, val_dataloader,  model, learning_rate = 2e-5 , epochs = 1, cross_entropy= cross_entropy, batch_size=128)"
      ],
      "metadata": {
        "colab": {
          "base_uri": "https://localhost:8080/"
        },
        "id": "C8rCGFP_-DcP",
        "outputId": "9857e042-b710-4048-bbba-7f01ac0956a4"
      },
      "execution_count": null,
      "outputs": [
        {
          "output_type": "stream",
          "name": "stdout",
          "text": [
            "\n",
            "Epoch 1 / 3:\n",
            "\n",
            "\n",
            " Training...\n",
            "Batch 1/281 |>...................................................................................................| 0.36% complete, loss=0.0000, accuracy=0.0000\n",
            "Epoch 0: SGD lr 0.0001 -> 0.0001\n",
            "Batch 31/281 |███████████>........................................................................................| 11.03% complete, loss=0.4898, accuracy=0.7210\n",
            "Epoch 30: SGD lr 0.0001 -> 0.0001\n",
            "Batch 61/281 |█████████████████████>..............................................................................| 21.71% complete, loss=0.4354, accuracy=0.7745\n",
            "Epoch 60: SGD lr 0.0001 -> 0.0001\n",
            "Batch 91/281 |████████████████████████████████>...................................................................| 32.38% complete, loss=0.4080, accuracy=0.7982\n",
            "Epoch 90: SGD lr 0.0001 -> 0.0001\n",
            "Batch 121/281 |███████████████████████████████████████████>........................................................| 43.06% complete, loss=0.3901, accuracy=0.8119\n",
            "Epoch 120: SGD lr 0.0001 -> 0.0001\n",
            "Batch 151/281 |█████████████████████████████████████████████████████>..............................................| 53.74% complete, loss=0.3793, accuracy=0.8200\n",
            "Epoch 150: SGD lr 0.0001 -> 0.0001\n",
            "Batch 181/281 |████████████████████████████████████████████████████████████████>...................................| 64.41% complete, loss=0.3700, accuracy=0.8259\n",
            "Epoch 180: SGD lr 0.0001 -> 0.0001\n",
            "Batch 211/281 |███████████████████████████████████████████████████████████████████████████>........................| 75.09% complete, loss=0.3621, accuracy=0.8306\n",
            "Epoch 210: SGD lr 0.0001 -> 0.0001\n",
            "Batch 241/281 |█████████████████████████████████████████████████████████████████████████████████████>..............| 85.77% complete, loss=0.3552, accuracy=0.8347\n",
            "Epoch 240: SGD lr 0.0001 -> 0.0001\n",
            "Batch 271/281 |████████████████████████████████████████████████████████████████████████████████████████████████>...| 96.44% complete, loss=0.3483, accuracy=0.8386\n",
            "Epoch 270: SGD lr 0.0001 -> 0.0001\n",
            "Batch 281/281 |████████████████████████████████████████████████████████████████████████████████████████████████████| 100.00% complete, loss=0.3463, accuracy=0.8399\n",
            "\n",
            "Evaluating...\n",
            "Batch 36/36 |████████████████████████████████████████████████████████████████████████████████████████████████████| 100.00% complete, loss=0.2573, accuracy=0.8609\n",
            "\n",
            "Training Loss: 0.347\n",
            "Validation Loss: 0.263\n",
            "\n",
            "Epoch 2 / 3:\n",
            "\n",
            "\n",
            " Training...\n",
            "Batch 1/281 |>...................................................................................................| 0.36% complete, loss=0.0000, accuracy=0.0000\n",
            "Epoch 0: SGD lr 0.0001 -> 0.0001\n",
            "Batch 31/281 |███████████>........................................................................................| 11.03% complete, loss=0.2558, accuracy=0.8521\n",
            "Epoch 30: SGD lr 0.0001 -> 0.0001\n",
            "Batch 61/281 |█████████████████████>..............................................................................| 21.71% complete, loss=0.2577, accuracy=0.8700\n",
            "Epoch 60: SGD lr 0.0001 -> 0.0001\n",
            "Batch 91/281 |████████████████████████████████>...................................................................| 32.38% complete, loss=0.2602, accuracy=0.8765\n",
            "Epoch 90: SGD lr 0.0001 -> 0.0001\n",
            "Batch 121/281 |███████████████████████████████████████████>........................................................| 43.06% complete, loss=0.2585, accuracy=0.8817\n",
            "Epoch 120: SGD lr 0.0001 -> 0.0001\n",
            "Batch 151/281 |█████████████████████████████████████████████████████>..............................................| 53.74% complete, loss=0.2533, accuracy=0.8857\n",
            "Epoch 150: SGD lr 0.0001 -> 0.0001\n",
            "Batch 181/281 |████████████████████████████████████████████████████████████████>...................................| 64.41% complete, loss=0.2564, accuracy=0.8848\n",
            "Epoch 180: SGD lr 0.0001 -> 0.0001\n",
            "Batch 211/281 |███████████████████████████████████████████████████████████████████████████>........................| 75.09% complete, loss=0.2544, accuracy=0.8866\n",
            "Epoch 210: SGD lr 0.0001 -> 0.0001\n",
            "Batch 241/281 |█████████████████████████████████████████████████████████████████████████████████████>..............| 85.77% complete, loss=0.2530, accuracy=0.8881\n",
            "Epoch 240: SGD lr 0.0001 -> 0.0001\n",
            "Batch 271/281 |████████████████████████████████████████████████████████████████████████████████████████████████>...| 96.44% complete, loss=0.2515, accuracy=0.8894\n",
            "Epoch 270: SGD lr 0.0001 -> 0.0001\n",
            "Batch 281/281 |████████████████████████████████████████████████████████████████████████████████████████████████████| 100.00% complete, loss=0.2504, accuracy=0.8900\n",
            "\n",
            "Evaluating...\n",
            "Batch 36/36 |████████████████████████████████████████████████████████████████████████████████████████████████████| 100.00% complete, loss=0.2315, accuracy=0.8730\n",
            "\n",
            "Training Loss: 0.251\n",
            "Validation Loss: 0.237\n",
            "\n",
            "Epoch 3 / 3:\n",
            "\n",
            "\n",
            " Training...\n",
            "Batch 1/281 |>...................................................................................................| 0.36% complete, loss=0.0000, accuracy=0.0000\n",
            "Epoch 0: SGD lr 0.0001 -> 0.0001\n",
            "Batch 31/281 |███████████>........................................................................................| 11.03% complete, loss=0.2100, accuracy=0.8788\n",
            "Epoch 30: SGD lr 0.0001 -> 0.0001\n",
            "Batch 61/281 |█████████████████████>..............................................................................| 21.71% complete, loss=0.2170, accuracy=0.8913\n",
            "Epoch 60: SGD lr 0.0001 -> 0.0001\n",
            "Batch 91/281 |████████████████████████████████>...................................................................| 32.38% complete, loss=0.2132, accuracy=0.9000\n",
            "Epoch 90: SGD lr 0.0001 -> 0.0001\n",
            "Batch 121/281 |███████████████████████████████████████████>........................................................| 43.06% complete, loss=0.2128, accuracy=0.9037\n",
            "Epoch 120: SGD lr 0.0001 -> 0.0001\n",
            "Batch 151/281 |█████████████████████████████████████████████████████>..............................................| 53.74% complete, loss=0.2123, accuracy=0.9063\n",
            "Epoch 150: SGD lr 0.0001 -> 0.0001\n",
            "Batch 181/281 |████████████████████████████████████████████████████████████████>...................................| 64.41% complete, loss=0.2122, accuracy=0.9070\n",
            "Epoch 180: SGD lr 0.0001 -> 0.0001\n",
            "Batch 211/281 |███████████████████████████████████████████████████████████████████████████>........................| 75.09% complete, loss=0.2102, accuracy=0.9093\n",
            "Epoch 210: SGD lr 0.0001 -> 0.0001\n",
            "Batch 241/281 |█████████████████████████████████████████████████████████████████████████████████████>..............| 85.77% complete, loss=0.2093, accuracy=0.9100\n",
            "Epoch 240: SGD lr 0.0001 -> 0.0001\n",
            "Batch 271/281 |████████████████████████████████████████████████████████████████████████████████████████████████>...| 96.44% complete, loss=0.2105, accuracy=0.9104\n",
            "Epoch 270: SGD lr 0.0001 -> 0.0001\n",
            "Batch 281/281 |████████████████████████████████████████████████████████████████████████████████████████████████████| 100.00% complete, loss=0.2098, accuracy=0.9107\n",
            "\n",
            "Evaluating...\n",
            "Batch 36/36 |████████████████████████████████████████████████████████████████████████████████████████████████████| 100.00% complete, loss=0.2282, accuracy=0.8854\n",
            "\n",
            "Training Loss: 0.210\n",
            "Validation Loss: 0.235\n"
          ]
        }
      ]
    },
    {
      "cell_type": "markdown",
      "source": [
        "### Test\n"
      ],
      "metadata": {
        "id": "n76kzHR40GX5"
      }
    },
    {
      "cell_type": "code",
      "source": [
        "predict_and_print_performance(model, batch_size=128, accuracy_function=acc)"
      ],
      "metadata": {
        "colab": {
          "base_uri": "https://localhost:8080/"
        },
        "id": "Vgt3YhV70TbT",
        "outputId": "d2c14e2e-11c7-44c6-bedb-10d9dc69c476"
      },
      "execution_count": 28,
      "outputs": [
        {
          "output_type": "stream",
          "name": "stdout",
          "text": [
            "Batch 36/36 |████████████████████████████████████████████████████████████████████████████████████████████████████| 100.00% complete, loss=0.2247, accuracy=0.8841\n",
            "Performance:\n",
            "Classification Report\n",
            "              precision    recall  f1-score   support\n",
            "\n",
            "           0       0.93      0.89      0.91      2247\n",
            "           1       0.89      0.93      0.91      2247\n",
            "\n",
            "    accuracy                           0.91      4494\n",
            "   macro avg       0.91      0.91      0.91      4494\n",
            "weighted avg       0.91      0.91      0.91      4494\n",
            "\n",
            "Accuracy: 0.9094348019581664\n"
          ]
        }
      ]
    },
    {
      "cell_type": "code",
      "source": [
        "torch.save(model.state_dict(), \"/content/drive/MyDrive/Data science/NLP/mina/Mina_model_Dataset_di_Alex_2\")"
      ],
      "metadata": {
        "id": "WCe0jpRXJTRV"
      },
      "execution_count": null,
      "outputs": []
    },
    {
      "cell_type": "code",
      "source": [
        "model.load_state_dict(torch.load(\"/content/drive/MyDrive/Data science/NLP/mina/Mina_model_Dataset_di_Alex_2\"))"
      ],
      "metadata": {
        "id": "LxPeCh7EzDHN"
      },
      "execution_count": null,
      "outputs": []
    },
    {
      "cell_type": "markdown",
      "source": [
        "## SemEval-2019 Dataset"
      ],
      "metadata": {
        "id": "4mjLfkg3cF2h"
      }
    },
    {
      "cell_type": "code",
      "source": [
        "df2 = pd.read_csv(\"/content/drive/MyDrive/Data science/NLP/Ema/hateval2019/hateval2019_en_train.csv\")\n",
        "df3 = pd.read_csv(\"/content/drive/MyDrive/Data science/NLP/Ema/hateval2019/hateval2019_en_test.csv\")\n",
        "df4 = pd.read_csv(\"/content/drive/MyDrive/Data science/NLP/Ema/hateval2019/hateval2019_en_dev.csv\")\n",
        "result = pd.concat([df2, df3, df4])\n",
        "result = result.rename(columns={'text': 'tweet', 'HS': 'class'})\n",
        "result = result[~result.tweet.isna()]\n",
        "result.to_csv(\"/content/drive/MyDrive/Data science/NLP/Ema/hateval2019_en_train2.csv\", encoding='utf-8', index=False)"
      ],
      "metadata": {
        "id": "09lLhG5McJFk"
      },
      "execution_count": 30,
      "outputs": []
    },
    {
      "cell_type": "code",
      "source": [
        "file_path = \"/content/drive/MyDrive/Data science/NLP/Ema/hateval2019_en_train2.csv\"\n",
        "column_to_drop = ['TR', 'id', 'AG']\n",
        "train_dataloader, val_dataloader, test_dataloader, acc, model = init_file(num_classes=2, type_task='multiclass', path_file= file_path, column_to_drop=column_to_drop, \\\n",
        "          text_column_name='tweet', column_label_name=\"class\", batch_size=128)"
      ],
      "metadata": {
        "id": "YASW5BaK0xVN"
      },
      "execution_count": 37,
      "outputs": []
    },
    {
      "cell_type": "markdown",
      "source": [
        "### Train"
      ],
      "metadata": {
        "id": "fV5cGedV1bQX"
      }
    },
    {
      "cell_type": "code",
      "source": [
        "cross_entropy = nn.CrossEntropyLoss()\n",
        "train_and_validate(train_dataloader, val_dataloader,  model, learning_rate = 0.001 , epochs = 1, cross_entropy= cross_entropy, batch_size=128)"
      ],
      "metadata": {
        "colab": {
          "base_uri": "https://localhost:8080/"
        },
        "id": "loGr77Bq1Jbk",
        "outputId": "6cebe163-aeb1-4d23-f2e1-11d6009e9747"
      },
      "execution_count": 38,
      "outputs": [
        {
          "output_type": "stream",
          "name": "stdout",
          "text": [
            "\n",
            "Epoch 1 / 1:\n",
            "\n",
            "\n",
            " Training...\n",
            "Batch 1/82 |█>..................................................................................................| 1.22% complete, loss=0.0000, accuracy=0.0000\n",
            "Epoch 0: SGD lr 0.0010 -> 0.0010\n",
            "Batch 31/82 |█████████████████████████████████████>..............................................................| 37.80% complete, loss=0.7480, accuracy=0.5900\n",
            "Epoch 30: SGD lr 0.0008 -> 0.0008\n",
            "Batch 61/82 |██████████████████████████████████████████████████████████████████████████>.........................| 74.39% complete, loss=0.6657, accuracy=0.6419\n",
            "Epoch 60: SGD lr 0.0006 -> 0.0006\n",
            "Batch 82/82 |████████████████████████████████████████████████████████████████████████████████████████████████████| 100.00% complete, loss=0.6356, accuracy=0.6577\n",
            "\n",
            "Evaluating...\n",
            "Batch 11/11 |████████████████████████████████████████████████████████████████████████████████████████████████████| 100.00% complete, loss=0.4668, accuracy=0.6776\n",
            "\n",
            "Training Loss: 0.642\n",
            "Validation Loss: 0.526\n"
          ]
        }
      ]
    },
    {
      "cell_type": "markdown",
      "source": [
        "### Test"
      ],
      "metadata": {
        "id": "0I5C_sWn1opB"
      }
    },
    {
      "cell_type": "code",
      "source": [
        "predict_and_print_performance(model, batch_size=128, accuracy_function=acc)"
      ],
      "metadata": {
        "colab": {
          "base_uri": "https://localhost:8080/"
        },
        "id": "QzbnWiF4ePk7",
        "outputId": "074efef6-db71-4da8-8eb6-4a3e546ff966"
      },
      "execution_count": 39,
      "outputs": [
        {
          "output_type": "stream",
          "name": "stdout",
          "text": [
            "Batch 11/11 |████████████████████████████████████████████████████████████████████████████████████████████████████| 100.00% complete, loss=0.4620, accuracy=0.6776\n",
            "Performance:\n",
            "Classification Report\n",
            "              precision    recall  f1-score   support\n",
            "\n",
            "           0       0.80      0.75      0.77       753\n",
            "           1       0.68      0.75      0.71       547\n",
            "\n",
            "    accuracy                           0.75      1300\n",
            "   macro avg       0.74      0.75      0.74      1300\n",
            "weighted avg       0.75      0.75      0.75      1300\n",
            "\n",
            "Accuracy: 0.7476923076923077\n"
          ]
        }
      ]
    }
  ]
}